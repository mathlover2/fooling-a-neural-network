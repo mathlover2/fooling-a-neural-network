{
 "cells": [
  {
   "cell_type": "code",
   "execution_count": null,
   "id": "9e04bc2f-a00d-47ed-b1c9-6bb0d03442bd",
   "metadata": {
    "tags": []
   },
   "outputs": [],
   "source": [
    "# Turn off Tensorflow warnings\n",
    "\n",
    "import os\n",
    "os.environ['TF_CPP_MIN_LOG_LEVEL'] = '3'\n",
    "\n",
    "## Key imports\n",
    "\n",
    "import numpy as np\n",
    "import tensorflow as tf\n",
    "import keras as k\n",
    "import pickle\n",
    "from math import prod\n",
    "from sklearn.preprocessing import StandardScaler\n",
    "from sklearn.metrics import confusion_matrix\n",
    "\n",
    "## Helper functions\n",
    "\n",
    "def load_object(filename):\n",
    "    with open(filename, 'rb') as imp:  # Overwrites any existing file.\n",
    "        res = pickle.load(imp)\n",
    "    return res"
   ]
  },
  {
   "cell_type": "code",
   "execution_count": null,
   "id": "1be0597d-b384-40ca-bff9-d39202a1f932",
   "metadata": {
    "tags": []
   },
   "outputs": [],
   "source": [
    "### Load objects \n",
    "\n",
    "# cnn_test_data = load_object('test_data.pkl')\n",
    "# cnn_test_labels = load_object('test_labels.pkl')\n",
    "# cnn_test_data = np.concatenate([cnn_test_data[d] for d in ['browse','chat','mail','p2p']])\n",
    "# cnn_test_labels = np.concatenate([cnn_test_labels[d] for d in ['browse','chat','mail','p2p']])\n",
    "\n",
    "lstm_test_data = load_object('lstm_test_data.pkl')\n",
    "lstm_test_labels = load_object('lstm_test_labels.pkl')\n",
    "lstm_test_data = np.concatenate([lstm_test_data[d] for d in ['browse','chat','mail','p2p']])\n",
    "lstm_test_labels = np.concatenate([lstm_test_labels[d] for d in ['browse','chat','mail','p2p']])\n",
    "scaler = load_object('scaler.pkl')\n",
    "\n",
    "# cnn_sae_full = tf.keras.saving.load_model('cnn_sae_full.11.keras')\n",
    "stacked_cnn_lstm_sae = tf.keras.saving.load_model('stacked_cnn_lstm_sae.53.keras')"
   ]
  },
  {
   "cell_type": "code",
   "execution_count": null,
   "id": "8e428485-bf65-43d8-942b-b6cd7f868648",
   "metadata": {
    "tags": []
   },
   "outputs": [],
   "source": [
    "# Calculate confusion matrix for CNN\n",
    "\n",
    "# y_true = np.argmax(cnn_test_labels, axis=-1) + 1\n",
    "# y_pred = np.argmax(cnn_sae_full.predict(cnn_test_data), axis=-1) + 1\n",
    "# mat = confusion_matrix(y_true, y_pred)\n",
    "# print(mat)\n"
   ]
  },
  {
   "cell_type": "code",
   "execution_count": null,
   "id": "6a67ac6b-1cd3-4090-909f-b9214c3322d0",
   "metadata": {
    "tags": []
   },
   "outputs": [],
   "source": [
    "# Calculate confusion matrix for stacked\n",
    "\n",
    "y_true = np.argmax(lstm_test_labels, axis=-1) + 1\n",
    "y_pred = np.argmax(stacked_cnn_lstm_sae.predict(lstm_test_data), axis=-1) + 1\n",
    "mat = confusion_matrix(y_true, y_pred)\n",
    "print(mat)"
   ]
  },
  {
   "cell_type": "code",
   "execution_count": null,
   "id": "aed123e8-367d-4c3b-897c-4fe62de5b33e",
   "metadata": {
    "tags": []
   },
   "outputs": [],
   "source": [
    "def skipper(fname):\n",
    "    with open(fname) as fin:\n",
    "        no_comments = (line for line in fin if not line.lstrip().startswith('n'))\n",
    "        next(no_comments, None) # skip header\n",
    "        for row in no_comments:\n",
    "            yield row\n",
    "\n",
    "browse_data = np.loadtxt(skipper('Data/featurePCAP_Browsing.csv'), delimiter=',')\n",
    "chat_data = np.loadtxt(skipper('Data/featurePCAP_Chat.csv'), delimiter=',')\n",
    "mail_data = np.loadtxt(skipper('Data/featurePCAP_Mail.csv'), delimiter=',')\n",
    "p2p_data = np.loadtxt(skipper('Data/featurePCAP_P2P2.csv'), delimiter=',')\n",
    "raw_data = {'browse': browse_data, 'chat': chat_data, \n",
    "            'mail' : mail_data, 'p2p': p2p_data}\n",
    "\n",
    "t, z = 0, 0\n",
    "for k in raw_data:\n",
    "    r = raw_data[k]\n",
    "    total_count = r.shape[0]\n",
    "    zero_count = r[np.all(r==0, axis=1)].shape[0]\n",
    "    t += total_count\n",
    "    z += zero_count\n",
    "    print(k, total_count, zero_count, '{:2.1f}'.format(100*zero_count/total_count))\n",
    "print(\"total\", t, z, '{:2.1f}'.format(100*z/t))"
   ]
  },
  {
   "cell_type": "code",
   "execution_count": null,
   "id": "ef62f012-826c-4d8d-ba11-a6e8e315b514",
   "metadata": {
    "tags": []
   },
   "outputs": [],
   "source": []
  },
  {
   "cell_type": "code",
   "execution_count": null,
   "id": "15f63240-2ffe-4055-84d9-b0b4357d46d7",
   "metadata": {},
   "outputs": [],
   "source": []
  }
 ],
 "metadata": {
  "kernelspec": {
   "display_name": "Python 3 (ipykernel)",
   "language": "python",
   "name": "python3"
  },
  "language_info": {
   "codemirror_mode": {
    "name": "ipython",
    "version": 3
   },
   "file_extension": ".py",
   "mimetype": "text/x-python",
   "name": "python",
   "nbconvert_exporter": "python",
   "pygments_lexer": "ipython3",
   "version": "3.10.12"
  }
 },
 "nbformat": 4,
 "nbformat_minor": 5
}
